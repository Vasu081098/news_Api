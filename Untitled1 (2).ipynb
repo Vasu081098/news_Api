{
 "cells": [
  {
   "cell_type": "code",
   "execution_count": 7,
   "metadata": {},
   "outputs": [
    {
     "name": "stdout",
     "output_type": "stream",
     "text": [
      "Requirement already satisfied: newsapi-python in c:\\programdata\\anaconda3\\lib\\site-packages (0.2.6)\n",
      "Requirement already satisfied: requests<3.0.0 in c:\\programdata\\anaconda3\\lib\\site-packages (from newsapi-python) (2.24.0)\n",
      "Requirement already satisfied: certifi>=2017.4.17 in c:\\programdata\\anaconda3\\lib\\site-packages (from requests<3.0.0->newsapi-python) (2020.6.20)\n",
      "Requirement already satisfied: urllib3!=1.25.0,!=1.25.1,<1.26,>=1.21.1 in c:\\programdata\\anaconda3\\lib\\site-packages (from requests<3.0.0->newsapi-python) (1.25.10)\n",
      "Requirement already satisfied: chardet<4,>=3.0.2 in c:\\programdata\\anaconda3\\lib\\site-packages (from requests<3.0.0->newsapi-python) (3.0.4)\n",
      "Requirement already satisfied: idna<3,>=2.5 in c:\\programdata\\anaconda3\\lib\\site-packages (from requests<3.0.0->newsapi-python) (2.10)\n"
     ]
    }
   ],
   "source": [
    "!pip install newsapi-python"
   ]
  },
  {
   "cell_type": "code",
   "execution_count": 1,
   "metadata": {},
   "outputs": [],
   "source": [
    "from newsapi import NewsApiClient\n",
    "import datetime as dt\n",
    "import pandas as pd"
   ]
  },
  {
   "cell_type": "code",
   "execution_count": 2,
   "metadata": {},
   "outputs": [],
   "source": [
    "newsapi = NewsApiClient(api_key='23324596b27047848b56a8f9c606c031')"
   ]
  },
  {
   "cell_type": "code",
   "execution_count": 3,
   "metadata": {},
   "outputs": [],
   "source": [
    "data = newsapi.get_everything(q='jupyter lab', language='en',page_size=20)"
   ]
  },
  {
   "cell_type": "code",
   "execution_count": 4,
   "metadata": {},
   "outputs": [
    {
     "ename": "TypeError",
     "evalue": "'type' object is not subscriptable",
     "output_type": "error",
     "traceback": [
      "\u001b[1;31m---------------------------------------------------------------------------\u001b[0m",
      "\u001b[1;31mTypeError\u001b[0m                                 Traceback (most recent call last)",
      "\u001b[1;32m<ipython-input-4-2cf511c06983>\u001b[0m in \u001b[0;36m<module>\u001b[1;34m\u001b[0m\n\u001b[1;32m----> 1\u001b[1;33m \u001b[0mtype\u001b[0m\u001b[1;33m[\u001b[0m\u001b[0mdata\u001b[0m\u001b[1;33m]\u001b[0m\u001b[1;33m\u001b[0m\u001b[1;33m\u001b[0m\u001b[0m\n\u001b[0m",
      "\u001b[1;31mTypeError\u001b[0m: 'type' object is not subscriptable"
     ]
    }
   ],
   "source": [
    "type[data]"
   ]
  },
  {
   "cell_type": "code",
   "execution_count": null,
   "metadata": {},
   "outputs": [],
   "source": [
    "data.keys()"
   ]
  },
  {
   "cell_type": "code",
   "execution_count": 5,
   "metadata": {},
   "outputs": [
    {
     "data": {
      "text/plain": [
       "'ok'"
      ]
     },
     "execution_count": 5,
     "metadata": {},
     "output_type": "execute_result"
    }
   ],
   "source": [
    "data['status']"
   ]
  },
  {
   "cell_type": "code",
   "execution_count": 6,
   "metadata": {},
   "outputs": [
    {
     "data": {
      "text/plain": [
       "33"
      ]
     },
     "execution_count": 6,
     "metadata": {},
     "output_type": "execute_result"
    }
   ],
   "source": [
    "data['totalResults']"
   ]
  },
  {
   "cell_type": "code",
   "execution_count": 7,
   "metadata": {},
   "outputs": [
    {
     "data": {
      "text/plain": [
       "list"
      ]
     },
     "execution_count": 7,
     "metadata": {},
     "output_type": "execute_result"
    }
   ],
   "source": [
    "type(data['articles'])"
   ]
  },
  {
   "cell_type": "code",
   "execution_count": 8,
   "metadata": {},
   "outputs": [
    {
     "data": {
      "text/plain": [
       "{'source': {'id': None, 'name': 'Github.com'},\n",
       " 'author': 'connorferster',\n",
       " 'title': 'Automatically Render Latex Equations from Python Math Code',\n",
       " 'description': 'Python library for converting Python calculations into rendered latex. - connorferster/handcalcs',\n",
       " 'url': 'https://github.com/connorferster/handcalcs',\n",
       " 'urlToImage': 'https://repository-images.githubusercontent.com/241504436/bbcfed80-cdf1-11ea-99f9-8b8754fccbee',\n",
       " 'publishedAt': '2020-09-01T21:13:16Z',\n",
       " 'content': 'Covert art by Joshua Hoiberg\\r\\nhandcalcs is a library to render Python calculation code automatically in Latex, but in a manner that mimics how one might format their calculation if it were written wi… [+18729 chars]'}"
      ]
     },
     "execution_count": 8,
     "metadata": {},
     "output_type": "execute_result"
    }
   ],
   "source": [
    "data['articles'][0]"
   ]
  },
  {
   "cell_type": "code",
   "execution_count": 9,
   "metadata": {},
   "outputs": [],
   "source": [
    "articles = data['articles']"
   ]
  },
  {
   "cell_type": "code",
   "execution_count": 10,
   "metadata": {},
   "outputs": [
    {
     "name": "stdout",
     "output_type": "stream",
     "text": [
      "0   Automatically Render Latex Equations from Python Math Code\n",
      "1   .NET Interactive Preview 3: VS Code Insiders and .NET Polyglot Notebooks\n",
      "2   How to Make an Auto 35mm Film Scanner with Arduino Nano and Python\n",
      "3   Build a remote management console using Python and Jupyter Notebooks\n",
      "4   Arize AI Helps Us Understand How AI Works\n",
      "5   How to choose an FPGA dev board. A guide for 2020\n",
      "6   Developing AWS Glue ETL jobs locally using a container\n",
      "7   Accelerating genomics workflows and data analysis on Azure\n",
      "8   Towards a Knowledge Graph Economy. The Year of the Graph Newsletter, Summer 2020\n",
      "9   10 MLops platforms to manage the machine learning lifecycle\n",
      "10   jupyterlab-kernelspy added to PyPI\n",
      "11   swannotifications added to PyPI\n",
      "12   sparkconnector added to PyPI\n",
      "13   swanintro added to PyPI\n",
      "14   create-jupyter-git added to PyPI\n",
      "15   Serving PyTorch models in production with the Amazon SageMaker native TorchServe integration\n",
      "16   jupyterlab-python-file added to PyPI\n",
      "17   facebook-data-miner added to PyPI\n",
      "18   jlab-ext-example added to PyPI\n",
      "19   Mathworks Deep learning workflow: tips, tricks, and often forgotten steps\n"
     ]
    }
   ],
   "source": [
    "for x,y in enumerate(articles):\n",
    "    print(f'{x}   {y[\"title\"]}')"
   ]
  },
  {
   "cell_type": "code",
   "execution_count": 11,
   "metadata": {},
   "outputs": [
    {
     "name": "stdout",
     "output_type": "stream",
     "text": [
      "\n",
      "source          {'id': None, 'name': 'Github.com'}\n",
      "\n",
      "author          connorferster\n",
      "\n",
      "title           Automatically Render Latex Equations from Python Math Code\n",
      "\n",
      "description     Python library for converting Python calculations into rendered latex. - connorferster/handcalcs\n",
      "\n",
      "url             https://github.com/connorferster/handcalcs\n",
      "\n",
      "urlToImage      https://repository-images.githubusercontent.com/241504436/bbcfed80-cdf1-11ea-99f9-8b8754fccbee\n",
      "\n",
      "publishedAt     2020-09-01T21:13:16Z\n",
      "\n",
      "content         Covert art by Joshua Hoiberg\r\n",
      "handcalcs is a library to render Python calculation code automatically in Latex, but in a manner that mimics how one might format their calculation if it were written wi… [+18729 chars]\n"
     ]
    }
   ],
   "source": [
    "for key, value in articles[0].items():\n",
    "    print(f\"\\n{key.ljust(15)} {value}\")"
   ]
  },
  {
   "cell_type": "code",
   "execution_count": 12,
   "metadata": {},
   "outputs": [],
   "source": [
    "df=pd.DataFrame(articles)"
   ]
  },
  {
   "cell_type": "code",
   "execution_count": 13,
   "metadata": {},
   "outputs": [
    {
     "data": {
      "text/html": [
       "<div>\n",
       "<style scoped>\n",
       "    .dataframe tbody tr th:only-of-type {\n",
       "        vertical-align: middle;\n",
       "    }\n",
       "\n",
       "    .dataframe tbody tr th {\n",
       "        vertical-align: top;\n",
       "    }\n",
       "\n",
       "    .dataframe thead th {\n",
       "        text-align: right;\n",
       "    }\n",
       "</style>\n",
       "<table border=\"1\" class=\"dataframe\">\n",
       "  <thead>\n",
       "    <tr style=\"text-align: right;\">\n",
       "      <th></th>\n",
       "      <th>source</th>\n",
       "      <th>author</th>\n",
       "      <th>title</th>\n",
       "      <th>description</th>\n",
       "      <th>url</th>\n",
       "      <th>urlToImage</th>\n",
       "      <th>publishedAt</th>\n",
       "      <th>content</th>\n",
       "    </tr>\n",
       "  </thead>\n",
       "  <tbody>\n",
       "    <tr>\n",
       "      <th>0</th>\n",
       "      <td>{'id': None, 'name': 'Github.com'}</td>\n",
       "      <td>connorferster</td>\n",
       "      <td>Automatically Render Latex Equations from Pyth...</td>\n",
       "      <td>Python library for converting Python calculati...</td>\n",
       "      <td>https://github.com/connorferster/handcalcs</td>\n",
       "      <td>https://repository-images.githubusercontent.co...</td>\n",
       "      <td>2020-09-01T21:13:16Z</td>\n",
       "      <td>Covert art by Joshua Hoiberg\\r\\nhandcalcs is a...</td>\n",
       "    </tr>\n",
       "    <tr>\n",
       "      <th>1</th>\n",
       "      <td>{'id': None, 'name': 'Microsoft.com'}</td>\n",
       "      <td>Maria Naggaga</td>\n",
       "      <td>.NET Interactive Preview 3: VS Code Insiders a...</td>\n",
       "      <td>In .NET Interactive Preview 2, we announced th...</td>\n",
       "      <td>https://devblogs.microsoft.com/dotnet/net-inte...</td>\n",
       "      <td>https://user-images.githubusercontent.com/2546...</td>\n",
       "      <td>2020-09-30T16:01:43Z</td>\n",
       "      <td>Maria\\r\\nSeptember 30th, 2020\\r\\nIn .NET Inter...</td>\n",
       "    </tr>\n",
       "    <tr>\n",
       "      <th>2</th>\n",
       "      <td>{'id': None, 'name': 'PetaPixel'}</td>\n",
       "      <td>Seckin Sinan Isik</td>\n",
       "      <td>How to Make an Auto 35mm Film Scanner with Ard...</td>\n",
       "      <td>Waiting while flatbed scanners scan a color ne...</td>\n",
       "      <td>https://petapixel.com/2020/09/23/how-to-make-a...</td>\n",
       "      <td>https://petapixel.com/assets/uploads/2020/09/a...</td>\n",
       "      <td>2020-09-23T18:14:19Z</td>\n",
       "      <td>Waiting while flatbed scanners scan a color ne...</td>\n",
       "    </tr>\n",
       "    <tr>\n",
       "      <th>3</th>\n",
       "      <td>{'id': None, 'name': 'Opensource.com'}</td>\n",
       "      <td>Moshe Zadka</td>\n",
       "      <td>Build a remote management console using Python...</td>\n",
       "      <td>Secure shell (SSH) is a powerful tool for remo...</td>\n",
       "      <td>https://opensource.com/article/20/9/remote-man...</td>\n",
       "      <td>https://opensource.com/sites/default/files/lea...</td>\n",
       "      <td>2020-09-04T07:01:00Z</td>\n",
       "      <td>Secure shell (SSH) is a powerful tool for remo...</td>\n",
       "    </tr>\n",
       "    <tr>\n",
       "      <th>4</th>\n",
       "      <td>{'id': None, 'name': 'Forbes'}</td>\n",
       "      <td>Frederick Daso, Contributor, Frederick Daso, C...</td>\n",
       "      <td>Arize AI Helps Us Understand How AI Works</td>\n",
       "      <td>The lack of explainability and observability p...</td>\n",
       "      <td>https://www.forbes.com/sites/frederickdaso/202...</td>\n",
       "      <td>https://thumbor.forbes.com/thumbor/fit-in/1200...</td>\n",
       "      <td>2020-09-01T13:32:26Z</td>\n",
       "      <td>As key functions in our society become more di...</td>\n",
       "    </tr>\n",
       "    <tr>\n",
       "      <th>5</th>\n",
       "      <td>{'id': None, 'name': 'Thedatabus.io'}</td>\n",
       "      <td>Batman</td>\n",
       "      <td>How to choose an FPGA dev board. A guide for 2020</td>\n",
       "      <td>This comprehensive guide aims to guide you in ...</td>\n",
       "      <td>https://thedatabus.io/fpga-buying-guide</td>\n",
       "      <td>https://thedatabus.io//static/555118d3170e4fb4...</td>\n",
       "      <td>2020-09-11T12:22:28Z</td>\n",
       "      <td>Let's face it, It is not easy to choose a frea...</td>\n",
       "    </tr>\n",
       "    <tr>\n",
       "      <th>6</th>\n",
       "      <td>{'id': None, 'name': 'Amazon.com'}</td>\n",
       "      <td>Vishal Pathak</td>\n",
       "      <td>Developing AWS Glue ETL jobs locally using a c...</td>\n",
       "      <td>AWS Glue is a fully managed extract, transform...</td>\n",
       "      <td>https://aws.amazon.com/blogs/big-data/developi...</td>\n",
       "      <td>https://d2908q01vomqb2.cloudfront.net/356a192b...</td>\n",
       "      <td>2020-09-08T16:23:42Z</td>\n",
       "      <td>AWS Glue is a fully managed extract, transform...</td>\n",
       "    </tr>\n",
       "    <tr>\n",
       "      <th>7</th>\n",
       "      <td>{'id': None, 'name': 'Microsoft.com'}</td>\n",
       "      <td>Chaitanya Bangur</td>\n",
       "      <td>Accelerating genomics workflows and data analy...</td>\n",
       "      <td>Microsoft Genomics has released several open s...</td>\n",
       "      <td>https://azure.microsoft.com/en-us/blog/acceler...</td>\n",
       "      <td>https://azurecomcdn.azureedge.net/cvt-d65e2656...</td>\n",
       "      <td>2020-09-25T10:00:39Z</td>\n",
       "      <td>Genomics is foundational to the development of...</td>\n",
       "    </tr>\n",
       "    <tr>\n",
       "      <th>8</th>\n",
       "      <td>{'id': None, 'name': 'Dzone.com'}</td>\n",
       "      <td>George Anadiotis</td>\n",
       "      <td>Towards a Knowledge Graph Economy. The Year of...</td>\n",
       "      <td>These past few months have not been kind to an...</td>\n",
       "      <td>https://dzone.com/articles/towards-a-knowledge...</td>\n",
       "      <td>https://dz2cdn3.dzone.com/storage/article-thum...</td>\n",
       "      <td>2020-09-10T02:47:48Z</td>\n",
       "      <td>These past few months have not been kind to an...</td>\n",
       "    </tr>\n",
       "    <tr>\n",
       "      <th>9</th>\n",
       "      <td>{'id': None, 'name': 'InfoWorld'}</td>\n",
       "      <td>Martin Heller, Martin Heller</td>\n",
       "      <td>10 MLops platforms to manage the machine learn...</td>\n",
       "      <td>For most professional software developers, usi...</td>\n",
       "      <td>https://www.infoworld.com/article/3572442/10-m...</td>\n",
       "      <td>https://images.idgesg.net/images/article/2019/...</td>\n",
       "      <td>2020-09-21T10:00:00Z</td>\n",
       "      <td>For most professional software developers, usi...</td>\n",
       "    </tr>\n",
       "    <tr>\n",
       "      <th>10</th>\n",
       "      <td>{'id': None, 'name': 'Pypi.org'}</td>\n",
       "      <td>None</td>\n",
       "      <td>jupyterlab-kernelspy added to PyPI</td>\n",
       "      <td>A Jupyter Lab extension for inspecting message...</td>\n",
       "      <td>https://pypi.org/project/jupyterlab-kernelspy/</td>\n",
       "      <td>https://pypi.org/static/images/twitter.9091506...</td>\n",
       "      <td>2020-09-21T10:27:47Z</td>\n",
       "      <td>A JupyterLab extension for inspecting messages...</td>\n",
       "    </tr>\n",
       "    <tr>\n",
       "      <th>11</th>\n",
       "      <td>{'id': None, 'name': 'Pypi.org'}</td>\n",
       "      <td>None</td>\n",
       "      <td>swannotifications added to PyPI</td>\n",
       "      <td>Notifications for SWAN</td>\n",
       "      <td>https://pypi.org/project/swannotifications/</td>\n",
       "      <td>https://pypi.org/static/images/twitter.9091506...</td>\n",
       "      <td>2020-09-03T10:23:19Z</td>\n",
       "      <td>Jupyter extension to display users' notificati...</td>\n",
       "    </tr>\n",
       "    <tr>\n",
       "      <th>12</th>\n",
       "      <td>{'id': None, 'name': 'Pypi.org'}</td>\n",
       "      <td>None</td>\n",
       "      <td>sparkconnector added to PyPI</td>\n",
       "      <td>Helper to connect to CERN's Spark Clusters</td>\n",
       "      <td>https://pypi.org/project/sparkconnector/</td>\n",
       "      <td>https://pypi.org/static/images/twitter.9091506...</td>\n",
       "      <td>2020-09-03T10:27:28Z</td>\n",
       "      <td>Helper to connect to CERN's Spark Clusters\\r\\n...</td>\n",
       "    </tr>\n",
       "    <tr>\n",
       "      <th>13</th>\n",
       "      <td>{'id': None, 'name': 'Pypi.org'}</td>\n",
       "      <td>None</td>\n",
       "      <td>swanintro added to PyPI</td>\n",
       "      <td>Information popup for SWAN</td>\n",
       "      <td>https://pypi.org/project/swanintro/</td>\n",
       "      <td>https://pypi.org/static/images/twitter.9091506...</td>\n",
       "      <td>2020-09-03T10:25:21Z</td>\n",
       "      <td>SWAN extension to show an information pop up t...</td>\n",
       "    </tr>\n",
       "    <tr>\n",
       "      <th>14</th>\n",
       "      <td>{'id': None, 'name': 'Pypi.org'}</td>\n",
       "      <td>johndavidfive@gmail.com</td>\n",
       "      <td>create-jupyter-git added to PyPI</td>\n",
       "      <td>A CLI command that generates a fresh Git Repos...</td>\n",
       "      <td>https://pypi.org/project/create-jupyter-git/</td>\n",
       "      <td>https://pypi.org/static/images/twitter.9091506...</td>\n",
       "      <td>2020-09-23T16:20:46Z</td>\n",
       "      <td>Create Jupyter Git\\r\\nA CLI command that gener...</td>\n",
       "    </tr>\n",
       "    <tr>\n",
       "      <th>15</th>\n",
       "      <td>{'id': None, 'name': 'Amazon.com'}</td>\n",
       "      <td>Todd Escalona</td>\n",
       "      <td>Serving PyTorch models in production with the ...</td>\n",
       "      <td>In April 2020, AWS and Facebook announced the ...</td>\n",
       "      <td>https://aws.amazon.com/blogs/machine-learning/...</td>\n",
       "      <td>https://d2908q01vomqb2.cloudfront.net/f1f836cb...</td>\n",
       "      <td>2020-09-17T18:06:22Z</td>\n",
       "      <td>In April 2020, AWS and Facebook announced the ...</td>\n",
       "    </tr>\n",
       "    <tr>\n",
       "      <th>16</th>\n",
       "      <td>{'id': None, 'name': 'Pypi.org'}</td>\n",
       "      <td>None</td>\n",
       "      <td>jupyterlab-python-file added to PyPI</td>\n",
       "      <td>Create Python Files from JupyterLab</td>\n",
       "      <td>https://pypi.org/project/jupyterlab-python-file/</td>\n",
       "      <td>https://pypi.org/static/images/twitter.9091506...</td>\n",
       "      <td>2020-09-24T10:57:24Z</td>\n",
       "      <td>Create Python Files from JupyterLab\\r\\nPrerequ...</td>\n",
       "    </tr>\n",
       "    <tr>\n",
       "      <th>17</th>\n",
       "      <td>{'id': None, 'name': 'Pypi.org'}</td>\n",
       "      <td>leventec3@gmail.com</td>\n",
       "      <td>facebook-data-miner added to PyPI</td>\n",
       "      <td>An object-oriented approach to mining personal...</td>\n",
       "      <td>https://pypi.org/project/facebook-data-miner/</td>\n",
       "      <td>https://pypi.org/static/images/twitter.9091506...</td>\n",
       "      <td>2020-10-01T15:22:37Z</td>\n",
       "      <td>Facebook-Data-Miner provides a set of tools th...</td>\n",
       "    </tr>\n",
       "    <tr>\n",
       "      <th>18</th>\n",
       "      <td>{'id': None, 'name': 'Pypi.org'}</td>\n",
       "      <td>None</td>\n",
       "      <td>jlab-ext-example added to PyPI</td>\n",
       "      <td>A minimal JupyterLab extension with backend an...</td>\n",
       "      <td>https://pypi.org/project/jlab-ext-example/</td>\n",
       "      <td>https://pypi.org/static/images/twitter.9091506...</td>\n",
       "      <td>2020-09-18T00:11:18Z</td>\n",
       "      <td>Create a minimal extension with backend (i.e. ...</td>\n",
       "    </tr>\n",
       "    <tr>\n",
       "      <th>19</th>\n",
       "      <td>{'id': None, 'name': 'Kdnuggets.com'}</td>\n",
       "      <td>Matt Mayo Editor</td>\n",
       "      <td>Mathworks Deep learning workflow: tips, tricks...</td>\n",
       "      <td>Getting started in deep learning – and adoptin...</td>\n",
       "      <td>https://www.kdnuggets.com/2020/09/mathworks-de...</td>\n",
       "      <td>https://www.kdnuggets.com/wp-content/uploads/m...</td>\n",
       "      <td>2020-09-22T18:00:08Z</td>\n",
       "      <td>Getting started in deep learning and adopting ...</td>\n",
       "    </tr>\n",
       "  </tbody>\n",
       "</table>\n",
       "</div>"
      ],
      "text/plain": [
       "                                    source  \\\n",
       "0       {'id': None, 'name': 'Github.com'}   \n",
       "1    {'id': None, 'name': 'Microsoft.com'}   \n",
       "2        {'id': None, 'name': 'PetaPixel'}   \n",
       "3   {'id': None, 'name': 'Opensource.com'}   \n",
       "4           {'id': None, 'name': 'Forbes'}   \n",
       "5    {'id': None, 'name': 'Thedatabus.io'}   \n",
       "6       {'id': None, 'name': 'Amazon.com'}   \n",
       "7    {'id': None, 'name': 'Microsoft.com'}   \n",
       "8        {'id': None, 'name': 'Dzone.com'}   \n",
       "9        {'id': None, 'name': 'InfoWorld'}   \n",
       "10        {'id': None, 'name': 'Pypi.org'}   \n",
       "11        {'id': None, 'name': 'Pypi.org'}   \n",
       "12        {'id': None, 'name': 'Pypi.org'}   \n",
       "13        {'id': None, 'name': 'Pypi.org'}   \n",
       "14        {'id': None, 'name': 'Pypi.org'}   \n",
       "15      {'id': None, 'name': 'Amazon.com'}   \n",
       "16        {'id': None, 'name': 'Pypi.org'}   \n",
       "17        {'id': None, 'name': 'Pypi.org'}   \n",
       "18        {'id': None, 'name': 'Pypi.org'}   \n",
       "19   {'id': None, 'name': 'Kdnuggets.com'}   \n",
       "\n",
       "                                               author  \\\n",
       "0                                       connorferster   \n",
       "1                                       Maria Naggaga   \n",
       "2                                   Seckin Sinan Isik   \n",
       "3                                         Moshe Zadka   \n",
       "4   Frederick Daso, Contributor, Frederick Daso, C...   \n",
       "5                                              Batman   \n",
       "6                                       Vishal Pathak   \n",
       "7                                    Chaitanya Bangur   \n",
       "8                                    George Anadiotis   \n",
       "9                        Martin Heller, Martin Heller   \n",
       "10                                               None   \n",
       "11                                               None   \n",
       "12                                               None   \n",
       "13                                               None   \n",
       "14                            johndavidfive@gmail.com   \n",
       "15                                      Todd Escalona   \n",
       "16                                               None   \n",
       "17                                leventec3@gmail.com   \n",
       "18                                               None   \n",
       "19                                   Matt Mayo Editor   \n",
       "\n",
       "                                                title  \\\n",
       "0   Automatically Render Latex Equations from Pyth...   \n",
       "1   .NET Interactive Preview 3: VS Code Insiders a...   \n",
       "2   How to Make an Auto 35mm Film Scanner with Ard...   \n",
       "3   Build a remote management console using Python...   \n",
       "4           Arize AI Helps Us Understand How AI Works   \n",
       "5   How to choose an FPGA dev board. A guide for 2020   \n",
       "6   Developing AWS Glue ETL jobs locally using a c...   \n",
       "7   Accelerating genomics workflows and data analy...   \n",
       "8   Towards a Knowledge Graph Economy. The Year of...   \n",
       "9   10 MLops platforms to manage the machine learn...   \n",
       "10                 jupyterlab-kernelspy added to PyPI   \n",
       "11                    swannotifications added to PyPI   \n",
       "12                       sparkconnector added to PyPI   \n",
       "13                            swanintro added to PyPI   \n",
       "14                   create-jupyter-git added to PyPI   \n",
       "15  Serving PyTorch models in production with the ...   \n",
       "16               jupyterlab-python-file added to PyPI   \n",
       "17                  facebook-data-miner added to PyPI   \n",
       "18                     jlab-ext-example added to PyPI   \n",
       "19  Mathworks Deep learning workflow: tips, tricks...   \n",
       "\n",
       "                                          description  \\\n",
       "0   Python library for converting Python calculati...   \n",
       "1   In .NET Interactive Preview 2, we announced th...   \n",
       "2   Waiting while flatbed scanners scan a color ne...   \n",
       "3   Secure shell (SSH) is a powerful tool for remo...   \n",
       "4   The lack of explainability and observability p...   \n",
       "5   This comprehensive guide aims to guide you in ...   \n",
       "6   AWS Glue is a fully managed extract, transform...   \n",
       "7   Microsoft Genomics has released several open s...   \n",
       "8   These past few months have not been kind to an...   \n",
       "9   For most professional software developers, usi...   \n",
       "10  A Jupyter Lab extension for inspecting message...   \n",
       "11                             Notifications for SWAN   \n",
       "12         Helper to connect to CERN's Spark Clusters   \n",
       "13                         Information popup for SWAN   \n",
       "14  A CLI command that generates a fresh Git Repos...   \n",
       "15  In April 2020, AWS and Facebook announced the ...   \n",
       "16                Create Python Files from JupyterLab   \n",
       "17  An object-oriented approach to mining personal...   \n",
       "18  A minimal JupyterLab extension with backend an...   \n",
       "19  Getting started in deep learning – and adoptin...   \n",
       "\n",
       "                                                  url  \\\n",
       "0          https://github.com/connorferster/handcalcs   \n",
       "1   https://devblogs.microsoft.com/dotnet/net-inte...   \n",
       "2   https://petapixel.com/2020/09/23/how-to-make-a...   \n",
       "3   https://opensource.com/article/20/9/remote-man...   \n",
       "4   https://www.forbes.com/sites/frederickdaso/202...   \n",
       "5             https://thedatabus.io/fpga-buying-guide   \n",
       "6   https://aws.amazon.com/blogs/big-data/developi...   \n",
       "7   https://azure.microsoft.com/en-us/blog/acceler...   \n",
       "8   https://dzone.com/articles/towards-a-knowledge...   \n",
       "9   https://www.infoworld.com/article/3572442/10-m...   \n",
       "10     https://pypi.org/project/jupyterlab-kernelspy/   \n",
       "11        https://pypi.org/project/swannotifications/   \n",
       "12           https://pypi.org/project/sparkconnector/   \n",
       "13                https://pypi.org/project/swanintro/   \n",
       "14       https://pypi.org/project/create-jupyter-git/   \n",
       "15  https://aws.amazon.com/blogs/machine-learning/...   \n",
       "16   https://pypi.org/project/jupyterlab-python-file/   \n",
       "17      https://pypi.org/project/facebook-data-miner/   \n",
       "18         https://pypi.org/project/jlab-ext-example/   \n",
       "19  https://www.kdnuggets.com/2020/09/mathworks-de...   \n",
       "\n",
       "                                           urlToImage           publishedAt  \\\n",
       "0   https://repository-images.githubusercontent.co...  2020-09-01T21:13:16Z   \n",
       "1   https://user-images.githubusercontent.com/2546...  2020-09-30T16:01:43Z   \n",
       "2   https://petapixel.com/assets/uploads/2020/09/a...  2020-09-23T18:14:19Z   \n",
       "3   https://opensource.com/sites/default/files/lea...  2020-09-04T07:01:00Z   \n",
       "4   https://thumbor.forbes.com/thumbor/fit-in/1200...  2020-09-01T13:32:26Z   \n",
       "5   https://thedatabus.io//static/555118d3170e4fb4...  2020-09-11T12:22:28Z   \n",
       "6   https://d2908q01vomqb2.cloudfront.net/356a192b...  2020-09-08T16:23:42Z   \n",
       "7   https://azurecomcdn.azureedge.net/cvt-d65e2656...  2020-09-25T10:00:39Z   \n",
       "8   https://dz2cdn3.dzone.com/storage/article-thum...  2020-09-10T02:47:48Z   \n",
       "9   https://images.idgesg.net/images/article/2019/...  2020-09-21T10:00:00Z   \n",
       "10  https://pypi.org/static/images/twitter.9091506...  2020-09-21T10:27:47Z   \n",
       "11  https://pypi.org/static/images/twitter.9091506...  2020-09-03T10:23:19Z   \n",
       "12  https://pypi.org/static/images/twitter.9091506...  2020-09-03T10:27:28Z   \n",
       "13  https://pypi.org/static/images/twitter.9091506...  2020-09-03T10:25:21Z   \n",
       "14  https://pypi.org/static/images/twitter.9091506...  2020-09-23T16:20:46Z   \n",
       "15  https://d2908q01vomqb2.cloudfront.net/f1f836cb...  2020-09-17T18:06:22Z   \n",
       "16  https://pypi.org/static/images/twitter.9091506...  2020-09-24T10:57:24Z   \n",
       "17  https://pypi.org/static/images/twitter.9091506...  2020-10-01T15:22:37Z   \n",
       "18  https://pypi.org/static/images/twitter.9091506...  2020-09-18T00:11:18Z   \n",
       "19  https://www.kdnuggets.com/wp-content/uploads/m...  2020-09-22T18:00:08Z   \n",
       "\n",
       "                                              content  \n",
       "0   Covert art by Joshua Hoiberg\\r\\nhandcalcs is a...  \n",
       "1   Maria\\r\\nSeptember 30th, 2020\\r\\nIn .NET Inter...  \n",
       "2   Waiting while flatbed scanners scan a color ne...  \n",
       "3   Secure shell (SSH) is a powerful tool for remo...  \n",
       "4   As key functions in our society become more di...  \n",
       "5   Let's face it, It is not easy to choose a frea...  \n",
       "6   AWS Glue is a fully managed extract, transform...  \n",
       "7   Genomics is foundational to the development of...  \n",
       "8   These past few months have not been kind to an...  \n",
       "9   For most professional software developers, usi...  \n",
       "10  A JupyterLab extension for inspecting messages...  \n",
       "11  Jupyter extension to display users' notificati...  \n",
       "12  Helper to connect to CERN's Spark Clusters\\r\\n...  \n",
       "13  SWAN extension to show an information pop up t...  \n",
       "14  Create Jupyter Git\\r\\nA CLI command that gener...  \n",
       "15  In April 2020, AWS and Facebook announced the ...  \n",
       "16  Create Python Files from JupyterLab\\r\\nPrerequ...  \n",
       "17  Facebook-Data-Miner provides a set of tools th...  \n",
       "18  Create a minimal extension with backend (i.e. ...  \n",
       "19  Getting started in deep learning and adopting ...  "
      ]
     },
     "execution_count": 13,
     "metadata": {},
     "output_type": "execute_result"
    }
   ],
   "source": [
    "df"
   ]
  },
  {
   "cell_type": "code",
   "execution_count": 14,
   "metadata": {},
   "outputs": [
    {
     "name": "stdout",
     "output_type": "stream",
     "text": [
      "<mysql.connector.connection_cext.CMySQLConnection object at 0x000001E99CCB3E88>\n"
     ]
    }
   ],
   "source": [
    "import mysql.connector\n",
    "\n",
    "mydb = mysql.connector.connect(\n",
    "  host=\"localhost\",\n",
    "  user=\"root\",\n",
    "  password=\"Vasusehgal@1998\"\n",
    ")\n",
    "\n",
    "print(mydb)"
   ]
  },
  {
   "cell_type": "code",
   "execution_count": 16,
   "metadata": {},
   "outputs": [],
   "source": [
    "import mysql.connector\n",
    "import newsapi\n",
    "# dict_keys - status , totalresults, articles\n",
    "col=[]\n",
    "type=[]\n",
    "\n",
    "\n",
    "mydb = mysql.connector.connect(\n",
    "  host=\"localhost\",\n",
    "  user=\"root\",\n",
    "  password=\"Vasusehgal@1998\",\n",
    "  database=\"mydatabase\"\n",
    ")\n",
    "\n",
    "mycursor = mydb.cursor()\n",
    "\n",
    "mycursor.execute(\"CREATE TABLE newss (Author VARCHAR(100), Title VARCHAR(100),Source_Name VARCHAR(100))\");\n"
   ]
  },
  {
   "cell_type": "code",
   "execution_count": 19,
   "metadata": {},
   "outputs": [
    {
     "name": "stdout",
     "output_type": "stream",
     "text": [
      "{'source': {'id': None, 'name': 'Github.com'}, 'author': 'connorferster', 'title': 'Automatically Render Latex Equations from Python Math Code', 'description': 'Python library for converting Python calculations into rendered latex. - connorferster/handcalcs', 'url': 'https://github.com/connorferster/handcalcs', 'urlToImage': 'https://repository-images.githubusercontent.com/241504436/bbcfed80-cdf1-11ea-99f9-8b8754fccbee', 'publishedAt': '2020-09-01T21:13:16Z', 'content': 'Covert art by Joshua Hoiberg\\r\\nhandcalcs is a library to render Python calculation code automatically in Latex, but in a manner that mimics how one might format their calculation if it were written wi… [+18729 chars]'}\n",
      "{'source': {'id': None, 'name': 'Microsoft.com'}, 'author': 'Maria Naggaga', 'title': '.NET Interactive Preview 3: VS Code Insiders and .NET Polyglot Notebooks', 'description': 'In .NET Interactive Preview 2, we announced that in addition to Jupyter Notebook and Jupyter Lab, users could use nteract as well. In this preview, users can add VS Code Insiders to that list. With the VS Code Insiders experience, users can get started with .…', 'url': 'https://devblogs.microsoft.com/dotnet/net-interactive-preview-3-vs-code-insiders-and-polyglot-notebooks/', 'urlToImage': 'https://user-images.githubusercontent.com/2546640/94438730-833fed80-016d-11eb-94e6-da7b51abf58a.gif', 'publishedAt': '2020-09-30T16:01:43Z', 'content': 'Maria\\r\\nSeptember 30th, 2020\\r\\nIn .NET Interactive Preview 2, we announced that in addition to Jupyter Notebook and Jupyter Lab, users could use nteract as well. In this preview, users can add VS Code … [+5904 chars]'}\n",
      "{'source': {'id': None, 'name': 'PetaPixel'}, 'author': 'Seckin Sinan Isik', 'title': 'How to Make an Auto 35mm Film Scanner with Arduino Nano and Python', 'description': 'Waiting while flatbed scanners scan a color negative film is nothing to be excited about. This process and the subsequent color precorrection can take anywhere from an hour to two. Tools available today, such as Negative Lab Pro, make it easy to achieve great…', 'url': 'https://petapixel.com/2020/09/23/how-to-make-an-auto-35mm-film-scanner-with-arduino-nano-and-python/?utm_source=feedburner&utm_medium=feed&utm_campaign=Feed%3A+PetaPixel+%28PetaPixel%29', 'urlToImage': 'https://petapixel.com/assets/uploads/2020/09/auto35mmfilmscannerfeat.jpg', 'publishedAt': '2020-09-23T18:14:19Z', 'content': 'Waiting while flatbed scanners scan a color negative film is nothing to be excited about. This process and the subsequent color precorrection can take anywhere from an hour to two.\\r\\nTools available t… [+21335 chars]'}\n",
      "{'source': {'id': None, 'name': 'Opensource.com'}, 'author': 'Moshe Zadka', 'title': 'Build a remote management console using Python and Jupyter Notebooks', 'description': 'Secure shell (SSH) is a powerful tool for remote administration, but it lacks some niceties. Writing a full-fledged remote administration console sounds like it would be a lot of work. Surely, someone in the open source community has already written something…', 'url': 'https://opensource.com/article/20/9/remote-management-jupyter', 'urlToImage': 'https://opensource.com/sites/default/files/lead-images/computer_space_graphic_cosmic.png', 'publishedAt': '2020-09-04T07:01:00Z', 'content': 'Secure shell (SSH) is a powerful tool for remote administration, but it lacks some niceties. Writing a full-fledged remote administration console sounds like it would be a lot of work. Surely, someon… [+3307 chars]'}\n",
      "{'source': {'id': None, 'name': 'Forbes'}, 'author': 'Frederick Daso, Contributor, Frederick Daso, Contributorhttps://www.forbes.com/sites/frederickdaso/', 'title': 'Arize AI Helps Us Understand How AI Works', 'description': 'The lack of explainability and observability prevents AI and ML from being trusted tools in critical areas of human activity. Fortunately, Jason Lopatecki and Aparna Dhinakaran created Arize AI to helps us understand how and why AIs think.', 'url': 'https://www.forbes.com/sites/frederickdaso/2020/09/01/arize-ai-helps-us-understand-how-ai-works/', 'urlToImage': 'https://thumbor.forbes.com/thumbor/fit-in/1200x0/filters%3Aformat%28jpg%29/https%3A%2F%2Fspecials-images.forbesimg.com%2Fimageserve%2F5f3827887b0409ce0d3c823f%2F0x0.jpg', 'publishedAt': '2020-09-01T13:32:26Z', 'content': 'As key functions in our society become more digitized, we come to rely on artificial intelligence (AI) to run these processes. While AI and its specialized forms such as machine learning (ML) are pow… [+10483 chars]'}\n"
     ]
    }
   ],
   "source": [
    "for i in range(5):\n",
    "    print(data['articles'][i])"
   ]
  },
  {
   "cell_type": "code",
   "execution_count": 26,
   "metadata": {},
   "outputs": [
    {
     "ename": "TypeError",
     "evalue": "string indices must be integers",
     "output_type": "error",
     "traceback": [
      "\u001b[1;31m---------------------------------------------------------------------------\u001b[0m",
      "\u001b[1;31mTypeError\u001b[0m                                 Traceback (most recent call last)",
      "\u001b[1;32m<ipython-input-26-afbf187e6ffc>\u001b[0m in \u001b[0;36m<module>\u001b[1;34m\u001b[0m\n\u001b[0;32m      3\u001b[0m     \u001b[0mauth\u001b[0m\u001b[1;33m=\u001b[0m\u001b[0mdata\u001b[0m\u001b[1;33m[\u001b[0m\u001b[1;34m'articles'\u001b[0m\u001b[1;33m]\u001b[0m\u001b[1;33m[\u001b[0m\u001b[0mi\u001b[0m\u001b[1;33m]\u001b[0m\u001b[1;33m[\u001b[0m\u001b[1;34m'author'\u001b[0m\u001b[1;33m]\u001b[0m\u001b[1;33m\u001b[0m\u001b[1;33m\u001b[0m\u001b[0m\n\u001b[0;32m      4\u001b[0m     \u001b[0mtitle\u001b[0m\u001b[1;33m=\u001b[0m\u001b[0mdata\u001b[0m\u001b[1;33m[\u001b[0m\u001b[1;34m'articles'\u001b[0m\u001b[1;33m]\u001b[0m\u001b[1;33m[\u001b[0m\u001b[0mi\u001b[0m\u001b[1;33m]\u001b[0m\u001b[1;33m[\u001b[0m\u001b[1;34m'title'\u001b[0m\u001b[1;33m]\u001b[0m\u001b[1;33m\u001b[0m\u001b[1;33m\u001b[0m\u001b[0m\n\u001b[1;32m----> 5\u001b[1;33m     \u001b[0msname\u001b[0m\u001b[1;33m=\u001b[0m\u001b[0mdata\u001b[0m\u001b[1;33m[\u001b[0m\u001b[1;34m'articles'\u001b[0m\u001b[1;33m]\u001b[0m\u001b[1;33m[\u001b[0m\u001b[0mi\u001b[0m\u001b[1;33m]\u001b[0m\u001b[1;33m[\u001b[0m\u001b[1;34m'source'\u001b[0m\u001b[1;33m[\u001b[0m\u001b[1;34m'name'\u001b[0m\u001b[1;33m]\u001b[0m\u001b[1;33m]\u001b[0m\u001b[1;33m\u001b[0m\u001b[1;33m\u001b[0m\u001b[0m\n\u001b[0m\u001b[0;32m      6\u001b[0m     \u001b[0mval\u001b[0m\u001b[1;33m=\u001b[0m\u001b[1;33m(\u001b[0m\u001b[0mauth\u001b[0m\u001b[1;33m,\u001b[0m\u001b[0mtitle\u001b[0m\u001b[1;33m,\u001b[0m\u001b[0msname\u001b[0m\u001b[1;33m)\u001b[0m\u001b[1;33m\u001b[0m\u001b[1;33m\u001b[0m\u001b[0m\n\u001b[0;32m      7\u001b[0m     \u001b[0mmycursor\u001b[0m\u001b[1;33m.\u001b[0m\u001b[0mexecute\u001b[0m\u001b[1;33m(\u001b[0m\u001b[0msql\u001b[0m\u001b[1;33m,\u001b[0m \u001b[0mval\u001b[0m\u001b[1;33m)\u001b[0m\u001b[1;33m\u001b[0m\u001b[1;33m\u001b[0m\u001b[0m\n",
      "\u001b[1;31mTypeError\u001b[0m: string indices must be integers"
     ]
    }
   ],
   "source": [
    "sql = \"INSERT INTO news (Author,Title,Source_Name) VALUES (%s, %s, %s)\"\n",
    "for i in range(10):\n",
    "    auth=data['articles'][i]['author']\n",
    "    title=data['articles'][i]['title']\n",
    "    sname=data['articles'][i]['source'['name']]\n",
    "    val=(auth,title,sname)\n",
    "    mycursor.execute(sql, val)\n",
    "    print(mycursor.rowcount, \"record inserted.\")\n",
    "\n",
    "mydb.commit()"
   ]
  },
  {
   "cell_type": "code",
   "execution_count": null,
   "metadata": {},
   "outputs": [],
   "source": []
  }
 ],
 "metadata": {
  "kernelspec": {
   "display_name": "Python 3",
   "language": "python",
   "name": "python3"
  },
  "language_info": {
   "codemirror_mode": {
    "name": "ipython",
    "version": 3
   },
   "file_extension": ".py",
   "mimetype": "text/x-python",
   "name": "python",
   "nbconvert_exporter": "python",
   "pygments_lexer": "ipython3",
   "version": "3.7.6"
  }
 },
 "nbformat": 4,
 "nbformat_minor": 4
}
